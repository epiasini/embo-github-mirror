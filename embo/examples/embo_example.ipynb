{
 "cells": [
  {
   "cell_type": "code",
   "execution_count": 1,
   "metadata": {},
   "outputs": [],
   "source": [
    "# matplotlib configuration\n",
    "%matplotlib inline\n",
    "from matplotlib import pyplot as plt\n",
    "%config InlineBackend.figure_format = 'retina'\n",
    "\n",
    "# dependencies\n",
    "import numpy as np\n",
    "from scipy.stats import entropy\n",
    "\n",
    "# notebook theming\n",
    "from jupyterthemes import jtplot\n",
    "jtplot.style()\n",
    "\n",
    "# import embo\n",
    "import sys\n",
    "sys.path.append(\"../..\")\n",
    "from embo.embo import empirical_bottleneck"
   ]
  },
  {
   "cell_type": "code",
   "execution_count": null,
   "metadata": {
    "scrolled": false
   },
   "outputs": [],
   "source": [
    "def IB_plot(x,y,ax,title,**kw):\n",
    "    \"\"\"Compute and plot an IB curve\"\"\"\n",
    "    i_p,i_f,beta,mi,h_p,h_f = empirical_bottleneck(x,y,**kw)\n",
    "    ax.plot(np.arange(0,(mi*1.5)+.1,.1),np.arange(0,(mi*1.5)+.1,.1),'--k')\n",
    "    ax.plot([0, h_p], [mi, mi], '--b') # upper bound for I(M:Y) is MI(X:Y)\n",
    "    ax.plot([h_p,h_p], [0, mi], '--b') # upper bound for I(M:X) is H(X), given that M has the same cardinality as X\n",
    "    ax.plot(i_p,i_f,\"-b\",lw=2,alpha = .7)\n",
    "    ax.set_ylim(-0.01,(mi*1.1)+.1)\n",
    "    ax.set_xlim(-.01,(h_p*1.1)+.1)\n",
    "    ax.set_title(title)\n",
    "    ax.set_ylabel(\"$I_{future}$\",size=15)\n",
    "    ax.set_xlabel(\"$I_{past}$\",size=15)\n",
    "    return i_p,i_f,beta,mi,h_p,h_f\n",
    "\n",
    "\n",
    "\n",
    "# Fake data with arrays of two symbols\n",
    "x2 = np.array([0,0,0,1,0,1,0,1,0,1]*300)\n",
    "y2 = np.array([1,0,1,0,1,0,1,0,1,0]*300)\n",
    "\n",
    "# Fake data with arrays of six symbols\n",
    "x6 = np.array([0,1,2,3,4,5,0,1,2,3,4,5]*300)\n",
    "y6 = np.array([0,1,0,3,4,5,0,0,2,3,4,5]*300)\n",
    "\n",
    "# make plots\n",
    "fig, ax = plt.subplots(nrows=2,ncols=2,figsize=(10,8))\n",
    "\n",
    "i_p2,i_f2,beta2,mi2,h2_p,h2_f = IB_plot(x2,y2,ax[0,0],maxbeta=3,numbeta=30,title=\"IB Curve - Two Symbols\")\n",
    "i_p6,i_f6,beta6,mi6,h6_p,h6_f = IB_plot(x6,y6,ax[0,1],maxbeta=10,numbeta=1000,title=\"IB Curve - Six Symbols\")\n",
    "ax[1,0].plot(beta2,i_p2,label=\"$I_{past}$\",)\n",
    "ax[1,0].plot(beta2,i_f2,label=\"$I_{future}$\")\n",
    "ax[1,0].legend()\n",
    "ax[1,0].set_title('Information vs beta - Two symbols')\n",
    "ax[1,1].plot(beta6,i_p6,label=\"$I_{past}$\",)\n",
    "ax[1,1].plot(beta6,i_f6,label=\"$I_{future}$\")\n",
    "ax[1,1].set_title('Information vs beta - Six symbols')\n",
    "ax[1,1].legend()\n",
    "plt.tight_layout()"
   ]
  },
  {
   "cell_type": "code",
   "execution_count": null,
   "metadata": {},
   "outputs": [],
   "source": []
  }
 ],
 "metadata": {
  "kernelspec": {
   "display_name": "Python 3",
   "language": "python",
   "name": "python3"
  },
  "language_info": {
   "codemirror_mode": {
    "name": "ipython",
    "version": 3
   },
   "file_extension": ".py",
   "mimetype": "text/x-python",
   "name": "python",
   "nbconvert_exporter": "python",
   "pygments_lexer": "ipython3",
   "version": "3.6.5"
  }
 },
 "nbformat": 4,
 "nbformat_minor": 2
}
